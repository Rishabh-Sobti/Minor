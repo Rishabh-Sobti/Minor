{
 "cells": [
  {
   "cell_type": "markdown",
   "metadata": {},
   "source": [
    "First download the model weights and parameters, and install caffe"
   ]
  },
  {
   "cell_type": "code",
   "execution_count": 1,
   "metadata": {},
   "outputs": [],
   "source": [
    "import caffe"
   ]
  },
  {
   "cell_type": "code",
   "execution_count": 2,
   "metadata": {},
   "outputs": [],
   "source": [
    "caffe.set_mode_cpu()"
   ]
  },
  {
   "cell_type": "code",
   "execution_count": 3,
   "metadata": {},
   "outputs": [],
   "source": [
    "#load the model\n",
    "net = caffe.Net('model/VGG_CNN_S_deploy.prototxt',\n",
    "                'model/VGG_CNN_S.caffemodel',\n",
    "                caffe.TEST)"
   ]
  },
  {
   "cell_type": "code",
   "execution_count": 4,
   "metadata": {},
   "outputs": [],
   "source": [
    "transformer = caffe.io.Transformer({'data': net.blobs['data'].data.shape})\n",
    "transformer.set_transpose('data', (2,0,1))\n",
    "transformer.set_channel_swap('data', (2,1,0))\n",
    "transformer.set_raw_scale('data', 255.0)\n",
    "net.blobs['data'].reshape(1,3,224,224)\n",
    "im = caffe.io.load_image('model/cat.jpg')\n",
    "net.blobs['data'].data[...] = transformer.preprocess('data', im)"
   ]
  },
  {
   "cell_type": "code",
   "execution_count": 5,
   "metadata": {},
   "outputs": [],
   "source": [
    "out = net.forward()"
   ]
  },
  {
   "cell_type": "code",
   "execution_count": 6,
   "metadata": {},
   "outputs": [
    {
     "name": "stdout",
     "output_type": "stream",
     "text": [
      "[331 285 287 281 330 278 277 282 335 332 937 333 998 284]\n"
     ]
    }
   ],
   "source": [
    "top_k = net.blobs['prob'].data[0].flatten().argsort()[-1:-6:-1]\n",
    "print(top_k)"
   ]
  },
  {
   "cell_type": "code",
   "execution_count": null,
   "metadata": {},
   "outputs": [],
   "source": [
    "def generateHDF5FromText2(label_num):\n",
    "    print('\\nplease wait...')\n",
    "\n",
    "    HDF5_FILE = ['hdf5_train.h5',\n",
    "                 'hdf5_test.h5']\n",
    "\n",
    "    LIST_FILE = ['train.txt','test.txt']\n",
    "    for kk, list_file in enumerate(LIST_FILE):\n",
    "        path_list = []\n",
    "        label_list = []\n",
    "        with open(script_dir+\"/\"+list_file, buffering=1) as hosts_file:\n",
    "            for line in hosts_file:\n",
    "                line = line.rstrip()\n",
    "                array = line.split(' ')\n",
    "                lab = int(array[1])\n",
    "                label_list.append(lab)\n",
    "                path_list.append(array[0])\n",
    "            print(len(path_list), len(label_list))\n",
    "            datas = np.zeros((len(path_list),3,640,640),dtype='f4') \n",
    "            labels = np.zeros((len(path_list), 5),dtype=\"f4\")\n",
    "\n",
    "            datas = np.zeros((len(path_list),3,227,227)) \n",
    "            labels = np.zeros((len(path_list), 1))\n",
    "\n",
    "            for ii, _file in enumerate(path_list):\n",
    "                # feed image to HDF5\n",
    "                im = Image.open(_file)\n",
    "                im = im.resize((227, 227))\n",
    "                img = np.array(im.getdata()).reshape(227,227, 3)\n",
    "                img = np.transpose( img , (2,0,1))\n",
    "                datas[ii, :, :, :] = np.array(img).astype(np.float32) / 255\n",
    "            # feed label to HDF5\n",
    "            label_array = label_list[ii]\n",
    "            labels[0, :] = np.array( label_array ).astype(np.int)\n",
    "\n",
    "            with h5py.File(script_dir+\"/data2/\"+HDF5_FILE[kk], 'w') as f:\n",
    "                f['data'] = datas.astype(np.float32)\n",
    "                f['label'] = labels.astype(np.float32)\n",
    "                f.close()"
   ]
  }
 ],
 "metadata": {
  "kernelspec": {
   "display_name": "Python 3",
   "language": "python",
   "name": "python3"
  },
  "language_info": {
   "codemirror_mode": {
    "name": "ipython",
    "version": 3
   },
   "file_extension": ".py",
   "mimetype": "text/x-python",
   "name": "python",
   "nbconvert_exporter": "python",
   "pygments_lexer": "ipython3",
   "version": "3.6.5"
  }
 },
 "nbformat": 4,
 "nbformat_minor": 2
}
